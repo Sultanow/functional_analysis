{
 "cells": [
  {
   "cell_type": "code",
   "execution_count": 54,
   "metadata": {},
   "outputs": [],
   "source": [
    "from sympy.ntheory.primetest import is_square \n",
    "from math import sqrt\n",
    "\n",
    "import pandas as pd\n",
    "import time"
   ]
  },
  {
   "cell_type": "code",
   "execution_count": 28,
   "metadata": {},
   "outputs": [
    {
     "name": "stdout",
     "output_type": "stream",
     "text": [
      "Integral(-t + x*exp(-x**2)*exp(-I*pi*x)*besselj(0, x), (t, -oo, oo), (x, 0, oo))\n",
      "Integral(x*exp(-x**2)*exp(-I*pi*x)*besselj(0, x), (t, -oo, oo), (x, 0, oo))\n",
      "Integral(-t + x*exp(-x**2)*exp(-I*pi*x), (t, -oo, oo), (x, 0, oo))\n",
      "Integral(x*exp(-x**2)*exp(-I*pi*x), (t, -oo, oo), (x, 0, oo))\n"
     ]
    }
   ],
   "source": [
    "from sympy.abc import a, b, x, t\n",
    "from sympy import *\n",
    "from sympy import var, Integral, init_printing\n",
    "init_printing()\n",
    "\n",
    "a, b, x, t = symbols('a b x t')\n",
    "\n",
    "#integrand = exp((-a*t**2+I*b*t)/(3*t**2+1)+I*t*x)*(x/(3*t**2+1))\n",
    "#integrand = exp(-x**2) * exp(pi*I*(-x)) * besselj(0, a*x) * x + b\n",
    "\n",
    "for i in range(-1,1):\n",
    "    for j in range(-1,1):\n",
    "        #print(Integral(integrand.subs(a,i).subs(b,j), (x, 0, 5)).evalf())\n",
    "        print(Integral(integrand.subs(a,i).subs(b,j), (t, -oo, oo), (x, 0, oo)).evalf())\n"
   ]
  }
 ],
 "metadata": {
  "interpreter": {
   "hash": "ba7748335453189f9d38dabd374f9b1b064d42a7226279b34266d22bb23b64eb"
  },
  "kernelspec": {
   "display_name": "Python 3.9.7 64-bit ('base': conda)",
   "language": "python",
   "name": "python3"
  },
  "language_info": {
   "codemirror_mode": {
    "name": "ipython",
    "version": 3
   },
   "file_extension": ".py",
   "mimetype": "text/x-python",
   "name": "python",
   "nbconvert_exporter": "python",
   "pygments_lexer": "ipython3",
   "version": "3.9.7"
  },
  "orig_nbformat": 4
 },
 "nbformat": 4,
 "nbformat_minor": 2
}
