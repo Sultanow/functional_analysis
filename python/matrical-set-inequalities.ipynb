{
 "cells": [
  {
   "cell_type": "markdown",
   "metadata": {},
   "source": [
    "This code is inspired by the question [How to find all possible values that fit a matrical set of inequalities?](https://math.stackexchange.com/questions/5057764/how-to-find-all-possible-values-that-fit-a-matrical-set-of-inequalities) on Mathematics Stack Exchange (MSE)."
   ]
  },
  {
   "cell_type": "code",
   "execution_count": 14,
   "metadata": {},
   "outputs": [],
   "source": [
    "import numpy as np\n",
    "import matplotlib.pyplot as plt\n",
    "import sympy as sp\n",
    "from scipy.spatial import HalfspaceIntersection, ConvexHull\n",
    "from mpl_toolkits.mplot3d.art3d import Poly3DCollection"
   ]
  },
  {
   "cell_type": "markdown",
   "metadata": {},
   "source": [
    "# Determine inequalities\n",
    "First determine the (simplified) inequalities using symbolic derivation."
   ]
  },
  {
   "cell_type": "code",
   "execution_count": 15,
   "metadata": {},
   "outputs": [
    {
     "name": "stdout",
     "output_type": "stream",
     "text": [
      "Inequality 1: a - b > 0   ⇒ 3*x1 + x2 - 3*x4 > 0\n",
      "Inequality 2: b - c > 0   ⇒ 2*x1 - 4*x2 - x3 - x4 > 0\n",
      "Inequality 3: c - d > 0   ⇒ -x1 + x2 - 2*x3 + 2*x4 > 0\n",
      "\n",
      "After substitution x3 = 0, x4 = 1:\n",
      "Inequality 1: 3*x1 + x2 - 3 > 0\n",
      "Inequality 2: 2*x1 - 4*x2 - 1 > 0\n",
      "Inequality 3: -x1 + x2 + 2 > 0\n"
     ]
    }
   ],
   "source": [
    "x1, x2, x3, x4 = sp.symbols('x1 x2 x3 x4')\n",
    "\n",
    "# Define the 4 functions using symbolic derivation\n",
    "a = 7*x1 + 3*x2 + 2*x3 + x4\n",
    "b = 4*x1 + 2*x2 + 2*x3 + 4*x4\n",
    "c = 2*x1 + 6*x2 + 3*x3 + 5*x4\n",
    "d = 3*x1 + 5*x2 + 5*x3 + 3*x4\n",
    "\n",
    "# Compute the differences\n",
    "ineq1 = sp.simplify(a - b)  # a > b ⇒ a - b > 0\n",
    "ineq2 = sp.simplify(b - c)  # b > c ⇒ b - c > 0\n",
    "ineq3 = sp.simplify(c - d)  # c > d ⇒ c - d > 0\n",
    "\n",
    "# Print symbolic results\n",
    "print(\"Inequality 1: a - b > 0   ⇒\", ineq1, \"> 0\")\n",
    "print(\"Inequality 2: b - c > 0   ⇒\", ineq2, \"> 0\")\n",
    "print(\"Inequality 3: c - d > 0   ⇒\", ineq3, \"> 0\")\n",
    "\n",
    "# This is my vague point here:\n",
    "# Substitute fixed x3 = 0, x4 = 1\n",
    "subs = {x3: 0, x4: 1}\n",
    "ineq1_eval = ineq1.subs(subs)  # 3*x1 + x2 - 3\n",
    "ineq2_eval = ineq2.subs(subs)  # 2*x1 - 4*x2 - 1\n",
    "ineq3_eval = ineq3.subs(subs)  # -x1 + x2 + 2\n",
    "print(\"\\nAfter substitution x3 = 0, x4 = 1:\")\n",
    "print(\"Inequality 1:\", ineq1_eval, \"> 0\")\n",
    "print(\"Inequality 2:\", ineq2_eval, \"> 0\")\n",
    "print(\"Inequality 3:\", ineq3_eval, \"> 0\")"
   ]
  },
  {
   "cell_type": "markdown",
   "metadata": {},
   "source": [
    "# Describe the half space\n",
    "Now use the inequalities for describing the half space. The vague part is that was fixing $x_3$ and $x_4$."
   ]
  },
  {
   "cell_type": "code",
   "execution_count": 16,
   "metadata": {},
   "outputs": [],
   "source": [
    "# convert to A*x + b <= 0\n",
    "# Negate each inequality\n",
    "# Inequality: 3x1 + x2 - 3 > 0  →  -3x1 - x2 + 3 <= 0\n",
    "\n",
    "halfspaces = np.array([\n",
    "    [-3, -1],    # -ineq1\n",
    "    [-2,  4],    # -ineq2\n",
    "    [ 1, -1]     # -ineq3\n",
    "])\n",
    "offsets = np.array([3, 1, 2])\n",
    "halfspaces_full = np.hstack([halfspaces, -offsets[:, None]])"
   ]
  },
  {
   "cell_type": "markdown",
   "metadata": {},
   "source": [
    "# Calculate region, corner points and centroid\n",
    "Let's pick valid interior point and compute a feasable region and print the corner points where the corners of the solution give you the extreme valid combinations for $x_1$, $x_2$."
   ]
  },
  {
   "cell_type": "code",
   "execution_count": 17,
   "metadata": {},
   "outputs": [
    {
     "name": "stdout",
     "output_type": "stream",
     "text": [
      "Vertices of the feasible region (x1, x2):\n",
      "[4.5 2.5]\n",
      "[-0.9286 -0.2143]\n",
      "[-0.25 -2.25]\n",
      "\n",
      "Approximate centroid (average of feasible values):\n",
      "[1.1071 0.0119]\n"
     ]
    }
   ],
   "source": [
    "interior_point = np.array([1.5, 0.2])\n",
    "\n",
    "# compute feasible region\n",
    "hs = HalfspaceIntersection(halfspaces_full, interior_point)\n",
    "hull = ConvexHull(hs.intersections)\n",
    "\n",
    "# print the feasible corner points\n",
    "print(\"Vertices of the feasible region (x1, x2):\")\n",
    "for pt in hs.intersections[hull.vertices]:\n",
    "    print(np.round(pt, 4))\n",
    "\n",
    "# compute centroid (average value)\n",
    "centroid = np.mean(hs.intersections[hull.vertices], axis=0)\n",
    "print(\"\\nApproximate centroid (average of feasible values):\")\n",
    "print(np.round(centroid, 4))"
   ]
  },
  {
   "cell_type": "markdown",
   "metadata": {},
   "source": [
    "# Plot the region"
   ]
  },
  {
   "cell_type": "code",
   "execution_count": 18,
   "metadata": {},
   "outputs": [
    {
     "data": {
      "image/png": "[encoded data removed]",
      "text/plain": [
       "<Figure size 800x600 with 1 Axes>"
      ]
     },
     "metadata": {},
     "output_type": "display_data"
    }
   ],
   "source": [
    "plt.figure(figsize=(8, 6))\n",
    "for simplex in hull.simplices:\n",
    "    plt.plot(hs.intersections[simplex, 0], hs.intersections[simplex, 1], 'k-')\n",
    "\n",
    "plt.fill(hs.intersections[hull.vertices, 0],\n",
    "         hs.intersections[hull.vertices, 1],\n",
    "         color='lightgreen', alpha=0.6)\n",
    "\n",
    "plt.plot(*interior_point, 'ro', label=\"Interior Point\")\n",
    "plt.plot(*centroid, 'bx', label=\"Centroid (avg)\")\n",
    "plt.xlabel(\"x1\")\n",
    "plt.ylabel(\"x2\")\n",
    "plt.title(\"Feasible Region for x3=0, x4=1\")\n",
    "plt.grid(True)\n",
    "plt.legend()\n",
    "plt.axis(\"equal\")\n",
    "plt.show()"
   ]
  },
  {
   "cell_type": "markdown",
   "metadata": {},
   "source": [
    "# Fourier-Motzkin-Elimination (FME)"
   ]
  },
  {
   "cell_type": "code",
   "execution_count": 25,
   "metadata": {},
   "outputs": [
    {
     "name": "stdout",
     "output_type": "stream",
     "text": [
      "Reduced inequalities without x1:\n",
      "(-oo < x1) & (x1 < oo) & (x1 >= -x2/3 + x4) & (x1 <= x2 - 2*x3 + 2*x4) & (x1 >= 2*x2 + x3/2 + x4/2)\n"
     ]
    }
   ],
   "source": [
    "ineqs = [\n",
    "    3*x1 + x2 - 3*x4 >= 0,\n",
    "    2*x1 - 4*x2 - x3 - x4 >= 0,\n",
    "    -x1 + x2 - 2*x3 + 2*x4 >= 0\n",
    "]\n",
    "\n",
    "# Eliminate x1\n",
    "reduced = sp.reduce_inequalities(ineqs, [x1])\n",
    "print(\"Reduced inequalities without x1:\")\n",
    "print(reduced)"
   ]
  }
 ],
 "metadata": {
  "kernelspec": {
   "display_name": "base",
   "language": "python",
   "name": "python3"
  },
  "language_info": {
   "codemirror_mode": {
    "name": "ipython",
    "version": 3
   },
   "file_extension": ".py",
   "mimetype": "text/x-python",
   "name": "python",
   "nbconvert_exporter": "python",
   "pygments_lexer": "ipython3",
   "version": "3.12.4"
  }
 },
 "nbformat": 4,
 "nbformat_minor": 4
}
