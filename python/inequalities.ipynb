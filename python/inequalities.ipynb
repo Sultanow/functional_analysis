{
 "cells": [
  {
   "cell_type": "markdown",
   "metadata": {},
   "source": [
    "How to get a solution of the inequality $5 \\sin (\\theta)-\\frac{1}{2} \\sin \\left(\\frac{5 \\theta}{2}\\right) \\geq 0$ using sympy? ([Source](https://math.stackexchange.com/questions/4352947/how-to-get-a-solution-of-the-inequality-5-sin-theta-frac12-sin-left/))"
   ]
  },
  {
   "cell_type": "code",
   "execution_count": null,
   "metadata": {},
   "outputs": [],
   "source": [
    "# Source: https://math.stackexchange.com/questions/4352947/how-to-get-a-solution-of-the-inequality-5-sin-theta-frac12-sin-left/\n",
    "import sympy as sp\n",
    "from sympy import Eq, S\n",
    "from sympy.solvers.inequalities import solve_univariate_inequality\n",
    "from sympy import plot_implicit\n",
    "\n",
    "x, y = sp.symbols(\"x, y\", real=True)\n",
    "theta = sp.symbols(\"theta\")\n",
    "d = sp.symbols(\"d\", real=True, positive=True)\n",
    "y = 5 * sp.sin(theta) - d * sp.sin(sp.Rational(5,2) * theta)\n",
    "y_with_d_a_half = y.subs(d,1/2)"
   ]
  },
  {
   "cell_type": "code",
   "execution_count": 2,
   "metadata": {},
   "outputs": [
    {
     "data": {
      "text/latex": [
       "$\\displaystyle \\left\\{0\\right\\} \\cup \\left[2 \\pi, 4 \\pi\\right)$"
      ],
      "text/plain": [
       "Union({0}, Interval.Ropen(2*pi, 4*pi))"
      ]
     },
     "execution_count": 2,
     "metadata": {},
     "output_type": "execute_result"
    }
   ],
   "source": [
    "sp.solveset(y_with_d_a_half >= 0, theta, domain=S.Reals)"
   ]
  },
  {
   "cell_type": "code",
   "execution_count": 3,
   "metadata": {},
   "outputs": [
    {
     "data": {
      "text/latex": [
       "$\\displaystyle \\left\\{0\\right\\} \\cup \\left[2 \\pi, 4 \\pi\\right)$"
      ],
      "text/plain": [
       "Union({0}, Interval.Ropen(2*pi, 4*pi))"
      ]
     },
     "execution_count": 3,
     "metadata": {},
     "output_type": "execute_result"
    }
   ],
   "source": [
    "solve_univariate_inequality(y_with_d_a_half >= 0, theta, relational=False)"
   ]
  },
  {
   "cell_type": "code",
   "execution_count": 4,
   "metadata": {},
   "outputs": [
    {
     "name": "stderr",
     "output_type": "stream",
     "text": [
      "C:\\Development\\Anaconda\\lib\\site-packages\\sympy\\core\\relational.py:495: SymPyDeprecationWarning: \n",
      "\n",
      "Eq(expr) with rhs default to 0 has been deprecated since SymPy 1.5.\n",
      "Use Eq(expr, 0) instead. See\n",
      "https://github.com/sympy/sympy/issues/16587 for more info.\n",
      "\n",
      "  SymPyDeprecationWarning(\n"
     ]
    },
    {
     "data": {
      "image/png": "[encoded data removed]",
      "text/plain": [
       "<Figure size 432x288 with 1 Axes>"
      ]
     },
     "metadata": {
      "needs_background": "light"
     },
     "output_type": "display_data"
    },
    {
     "data": {
      "text/plain": [
       "<sympy.plotting.plot.Plot at 0x16eb05e5e80>"
      ]
     },
     "execution_count": 4,
     "metadata": {},
     "output_type": "execute_result"
    }
   ],
   "source": [
    "plot_implicit(Eq(y_with_d_a_half))"
   ]
  },
  {
   "cell_type": "code",
   "execution_count": 5,
   "metadata": {},
   "outputs": [
    {
     "data": {
      "image/png": "[encoded data removed]",
      "text/plain": [
       "<Figure size 432x288 with 1 Axes>"
      ]
     },
     "metadata": {
      "needs_background": "light"
     },
     "output_type": "display_data"
    },
    {
     "data": {
      "text/plain": [
       "<sympy.plotting.plot.Plot at 0x16ec3249d90>"
      ]
     },
     "execution_count": 5,
     "metadata": {},
     "output_type": "execute_result"
    }
   ],
   "source": [
    "plot_implicit(y_with_d_a_half >=0)"
   ]
  }
 ],
 "metadata": {
  "colab": {
   "collapsed_sections": [],
   "name": "graphwizz-tree.ipynb",
   "provenance": [],
   "toc_visible": true
  },
  "interpreter": {
   "hash": "524e93b8e0226315aee682eacc6843c81ddb16bd5c2ad8dc8495f33ccc2f5477"
  },
  "kernelspec": {
   "display_name": "Python 3.8.8 64-bit ('base': conda)",
   "name": "python3"
  },
  "language_info": {
   "codemirror_mode": {
    "name": "ipython",
    "version": 3
   },
   "file_extension": ".py",
   "mimetype": "text/x-python",
   "name": "python",
   "nbconvert_exporter": "python",
   "pygments_lexer": "ipython3",
   "version": "3.9.7"
  }
 },
 "nbformat": 4,
 "nbformat_minor": 0
}
